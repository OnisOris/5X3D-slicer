{
 "cells": [
  {
   "cell_type": "markdown",
   "id": "fdc2ca50-f4e2-4b16-8f00-0df26dd185d2",
   "metadata": {},
   "source": []
  },
  {
   "cell_type": "code",
   "execution_count": 3,
   "id": "571a6039-3b95-42e1-bb1b-15cf47b18956",
   "metadata": {},
   "outputs": [],
   "source": [
    "import sympy\n",
    "from sympy import *\n",
    "from sympy import (sin, cos, pi)\n",
    "import numpy as np\n",
    "from sympy.polys.polyoptions import Symbols\n",
    "from numpy import linalg as LA"
   ]
  },
  {
   "cell_type": "code",
   "execution_count": 47,
   "id": "7ac717ec-a200-49f2-bc86-ff8b06407c5f",
   "metadata": {},
   "outputs": [],
   "source": [
    "a = Symbol('a')\n",
    "b = Symbol('b')\n",
    "c = Symbol('c')\n",
    "d = Symbol('d')\n",
    "a1 = Symbol('a1')\n",
    "b1 = Symbol('b1')\n",
    "c1 = Symbol('c1')\n",
    "d1 = Symbol('d1')\n",
    "a2 = Symbol('a2')\n",
    "b2 = Symbol('b2')\n",
    "c2 = Symbol('c2')\n",
    "d2 = Symbol('d2')\n",
    "\n",
    "x = Symbol('x')\n",
    "y = Symbol('y')\n",
    "z = Symbol('z')\n",
    "\n",
    "\n"
   ]
  },
  {
   "cell_type": "code",
   "execution_count": null,
   "id": "32eab9d0-5b99-426e-8e52-566ff2f0e928",
   "metadata": {},
   "outputs": [],
   "source": []
  },
  {
   "cell_type": "code",
   "execution_count": null,
   "id": "8d16997c-06fc-4939-95bc-c06b753abb59",
   "metadata": {},
   "outputs": [],
   "source": []
  },
  {
   "cell_type": "code",
   "execution_count": 48,
   "id": "186eb2dc-88c2-4b47-9f48-6e5499685aaa",
   "metadata": {},
   "outputs": [
    {
     "ename": "ValueError",
     "evalue": "{-(b1*y + d1)/a1} is not a valid SymPy symbol",
     "output_type": "error",
     "traceback": [
      "\u001b[1;31m---------------------------------------------------------------------------\u001b[0m",
      "\u001b[1;31mValueError\u001b[0m                                Traceback (most recent call last)",
      "Cell \u001b[1;32mIn[48], line 10\u001b[0m\n\u001b[0;32m      5\u001b[0m x0 \u001b[38;5;241m=\u001b[39m sympy\u001b[38;5;241m.\u001b[39msolveset(eq0, x)\n\u001b[0;32m      6\u001b[0m \u001b[38;5;66;03m# eq0_1 = eq0-eq1\u001b[39;00m\n\u001b[0;32m      7\u001b[0m \u001b[38;5;66;03m# x = sympy.solveset(eq0, x)\u001b[39;00m\n\u001b[0;32m      8\u001b[0m \u001b[38;5;66;03m# y0 = eq1.subs(eq1, x0)\u001b[39;00m\n\u001b[0;32m      9\u001b[0m \u001b[38;5;66;03m# y0\u001b[39;00m\n\u001b[1;32m---> 10\u001b[0m y0 \u001b[38;5;241m=\u001b[39m \u001b[43msympy\u001b[49m\u001b[38;5;241;43m.\u001b[39;49m\u001b[43msolveset\u001b[49m\u001b[43m(\u001b[49m\u001b[43meq1\u001b[49m\u001b[43m,\u001b[49m\u001b[43m \u001b[49m\u001b[43mx0\u001b[49m\u001b[43m)\u001b[49m\n\u001b[0;32m     11\u001b[0m y0\n\u001b[0;32m     12\u001b[0m \u001b[38;5;66;03m# y_s = sympy.solveset(eq0, x)\u001b[39;00m\n",
      "File \u001b[1;32m~\\miniconda3\\Lib\\site-packages\\sympy\\solvers\\solveset.py:2217\u001b[0m, in \u001b[0;36msolveset\u001b[1;34m(f, symbol, domain)\u001b[0m\n\u001b[0;32m   2214\u001b[0m     \u001b[38;5;28;01mraise\u001b[39;00m \u001b[38;5;167;01mValueError\u001b[39;00m(\u001b[38;5;124m\"\u001b[39m\u001b[38;5;132;01m%s\u001b[39;00m\u001b[38;5;124m is not a valid SymPy expression\u001b[39m\u001b[38;5;124m\"\u001b[39m \u001b[38;5;241m%\u001b[39m f)\n\u001b[0;32m   2216\u001b[0m \u001b[38;5;28;01mif\u001b[39;00m \u001b[38;5;129;01mnot\u001b[39;00m \u001b[38;5;28misinstance\u001b[39m(symbol, (Expr, Relational)) \u001b[38;5;129;01mand\u001b[39;00m  symbol \u001b[38;5;129;01mis\u001b[39;00m \u001b[38;5;129;01mnot\u001b[39;00m \u001b[38;5;28;01mNone\u001b[39;00m:\n\u001b[1;32m-> 2217\u001b[0m     \u001b[38;5;28;01mraise\u001b[39;00m \u001b[38;5;167;01mValueError\u001b[39;00m(\u001b[38;5;124m\"\u001b[39m\u001b[38;5;132;01m%s\u001b[39;00m\u001b[38;5;124m is not a valid SymPy symbol\u001b[39m\u001b[38;5;124m\"\u001b[39m \u001b[38;5;241m%\u001b[39m (symbol,))\n\u001b[0;32m   2219\u001b[0m \u001b[38;5;28;01mif\u001b[39;00m \u001b[38;5;129;01mnot\u001b[39;00m \u001b[38;5;28misinstance\u001b[39m(domain, Set):\n\u001b[0;32m   2220\u001b[0m     \u001b[38;5;28;01mraise\u001b[39;00m \u001b[38;5;167;01mValueError\u001b[39;00m(\u001b[38;5;124m\"\u001b[39m\u001b[38;5;132;01m%s\u001b[39;00m\u001b[38;5;124m is not a valid domain\u001b[39m\u001b[38;5;124m\"\u001b[39m \u001b[38;5;241m%\u001b[39m(domain))\n",
      "\u001b[1;31mValueError\u001b[0m: {-(b1*y + d1)/a1} is not a valid SymPy symbol"
     ]
    }
   ],
   "source": [
    "# eq0 = a1*x+b1*y+c1*z+d1 \n",
    "# eq1 = a2*x+b2*y+c2*z+d2 \n",
    "eq0 = a1*x+b1*y+d1 \n",
    "eq1 = a2*x+b2*y+d2 \n",
    "x0 = sympy.solveset(eq0, x)\n",
    "# eq0_1 = eq0-eq1\n",
    "# x = sympy.solveset(eq0, x)\n",
    "# y0 = eq1.subs(eq1, x0)\n",
    "# y0\n",
    "y0 = sympy.solveset(eq1, x0)\n",
    "y0\n",
    "# y_s = sympy.solveset(eq0, x)"
   ]
  },
  {
   "cell_type": "code",
   "execution_count": 50,
   "id": "f70471a0-0777-4725-8623-962c464da2c0",
   "metadata": {},
   "outputs": [
    {
     "data": {
      "text/latex": [
       "$\\displaystyle \\left\\{- \\frac{b_{1} y + d_{1}}{a_{1}}\\right\\}$"
      ],
      "text/plain": [
       "{-(b1*y + d1)/a1}"
      ]
     },
     "execution_count": 50,
     "metadata": {},
     "output_type": "execute_result"
    }
   ],
   "source": [
    "x0"
   ]
  },
  {
   "cell_type": "code",
   "execution_count": 22,
   "id": "dd1f323b-78c6-4786-9606-b154e89432dc",
   "metadata": {},
   "outputs": [
    {
     "data": {
      "text/latex": [
       "$\\displaystyle \\left\\{- \\frac{b_{1} y + d_{1}}{a_{1}}\\right\\}$"
      ],
      "text/plain": [
       "{-(b1*y + d1)/a1}"
      ]
     },
     "execution_count": 22,
     "metadata": {},
     "output_type": "execute_result"
    }
   ],
   "source": []
  },
  {
   "cell_type": "code",
   "execution_count": 23,
   "id": "cdca6a92-d2f7-4204-bdab-5633e4876727",
   "metadata": {},
   "outputs": [
    {
     "data": {
      "text/latex": [
       "$\\displaystyle \\left\\{- \\frac{b_{1} y + d_{1}}{a_{1}}\\right\\}$"
      ],
      "text/plain": [
       "{-(b1*y + d1)/a1}"
      ]
     },
     "execution_count": 23,
     "metadata": {},
     "output_type": "execute_result"
    }
   ],
   "source": []
  },
  {
   "cell_type": "code",
   "execution_count": 24,
   "id": "2374cf17-6068-45ad-a504-7e368a68c7b6",
   "metadata": {},
   "outputs": [
    {
     "data": {
      "text/latex": [
       "$\\displaystyle a_{2} x + b_{2} y + d_{2}$"
      ],
      "text/plain": [
       "a2*x + b2*y + d2"
      ]
     },
     "execution_count": 24,
     "metadata": {},
     "output_type": "execute_result"
    }
   ],
   "source": [
    "eq1"
   ]
  },
  {
   "cell_type": "code",
   "execution_count": null,
   "id": "88d37b62-df52-49b8-9661-dade89d48b4f",
   "metadata": {},
   "outputs": [],
   "source": []
  }
 ],
 "metadata": {
  "kernelspec": {
   "display_name": "Python 3 (ipykernel)",
   "language": "python",
   "name": "python3"
  },
  "language_info": {
   "codemirror_mode": {
    "name": "ipython",
    "version": 3
   },
   "file_extension": ".py",
   "mimetype": "text/x-python",
   "name": "python",
   "nbconvert_exporter": "python",
   "pygments_lexer": "ipython3",
   "version": "3.11.5"
  }
 },
 "nbformat": 4,
 "nbformat_minor": 5
}
